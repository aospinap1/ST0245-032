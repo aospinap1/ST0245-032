{
 "cells": [
  {
   "cell_type": "code",
   "execution_count": 1,
   "metadata": {},
   "outputs": [],
   "source": [
    "#Codifo fuente: https://www.aprendemachinelearning.com/arbol-de-decision-en-python-clasificacion-y-prediccion/\n",
    "\n",
    "# Importamos librerías\n",
    "import matplotlib.pyplot as plt\n",
    "import numpy as np\n",
    "from sklearn.datasets.mldata import fetch_mldata\n",
    "\n",
    "## Arboles \n",
    "from sklearn.tree import DecisionTreeClassifier\n",
    "from sklearn.model_selection import train_test_split\n",
    "from sklearn.ensemble import RandomForestClassifier, ExtraTreesClassifier\n",
    "from sklearn.metrics import classification_report\n",
    "from time import time\n"
   ]
  },
  {
   "cell_type": "code",
   "execution_count": 2,
   "metadata": {},
   "outputs": [
    {
     "name": "stdout",
     "output_type": "stream",
     "text": [
      "Elapsed time: 0.0425429344 seconds.\n"
     ]
    }
   ],
   "source": [
    "# cargamos los datos\n",
    "started_time = time()\n",
    "input_files = 'Data.txt'\n",
    "datos = np.loadtxt(input_files,delimiter = ',')\n",
    "X,y = datos[:,:-1], datos[:,-1]\n",
    "elapsed_time = time() - started_time\n",
    "print (\"Elapsed time: %.10f seconds.\" % elapsed_time)"
   ]
  },
  {
   "cell_type": "code",
   "execution_count": 3,
   "metadata": {},
   "outputs": [],
   "source": [
    "\n",
    "def Arbol_desicion(X,y):\n",
    "    started_time = time()\n",
    "    # Separamos los datos de acuerdo a las etiquetas(2 clases), esto varia dependiendo del numero de clases\n",
    "    clase1 = np.array(X[y==1])\n",
    "    clase_1 = np.array(X[y==-1])\n",
    "\n",
    "    # Dividimos los datos en entrenamiento y validación\n",
    "    X_train, X_test, y_train, y_test = train_test_split(X,y, test_size = 0.25, random_state = 5)\n",
    "\n",
    "    # construimos el clasificador\n",
    "    # variable tipo diccionario con los parametros del arbol\n",
    "    # random state: semilla con la que arranca las cosas aleatorias\n",
    "    # max_depth: Numero de niveles del arbolito.\n",
    "    parametros = {'random_state' : 0, 'max_depth':4}\n",
    "    #construir arbol de clasificación\n",
    "    clasificador = DecisionTreeClassifier(**parametros)\n",
    "\n",
    "    # lo entrenamos para que con el conjunto de entrenamiento se arme el arbolito\n",
    "    clasificador.fit(X_train, y_train)\n",
    "    # Predecimos las etiquetas\n",
    "    y_test_pred = clasificador.predict(X_test)\n",
    "    # Mostramos los resultados\n",
    "    val = ((y_test == y_test_pred).sum()/len(y_test_pred))*100\n",
    "    print('El porcentaje de muestras bien clasificadas es de : ',val,'%')\n",
    "    validar_clasificador(y_train,X_train,clasificador,y_test,y_test_pred)\n",
    "    elapsed_time = time() - started_time\n",
    "    print (\"Elapsed time: %.10f seconds.\" % elapsed_time)"
   ]
  },
  {
   "cell_type": "code",
   "execution_count": 4,
   "metadata": {},
   "outputs": [],
   "source": [
    "# Funcion para el reporte de los diferentes metodos.\n",
    "def validar_clasificador(y_train,X_train,clasificador,y_test,y_predict):\n",
    "    # Evaluamos el desempeño del clasificador imprimiendo el reporte de clasificación.\n",
    "    started_time = time()\n",
    "    nombres_clases = ['Primera Clase','Segunda Clase']\n",
    "    print('\\n' + '#'*70)\n",
    "    print('\\n Desempeño del clasificador sobre el conjunto de entrenamiento \\n')\n",
    "    print(classification_report(y_train, clasificador.predict(X_train), target_names = nombres_clases))\n",
    "    print('#'*70 + '\\n')\n",
    "    print('\\n'+ '#'*70 )\n",
    "    print('Desempeño del clasificador sobre el conjunto de la validación \\n')\n",
    "    print(classification_report(y_test,y_predict, target_names = nombres_clases))\n",
    "    print('\\n'+ '#'*70 )\n",
    "    elapsed_time = time() - started_time\n",
    "    print (\"Elapsed time: %.10f seconds.\" % elapsed_time)"
   ]
  },
  {
   "cell_type": "code",
   "execution_count": 5,
   "metadata": {},
   "outputs": [
    {
     "name": "stdout",
     "output_type": "stream",
     "text": [
      "\n",
      "\n",
      "_________________Arboles de decisión_______________\n",
      "El porcentaje de muestras bien clasificadas es de :  90.66666666666666 %\n",
      "\n",
      "######################################################################\n",
      "\n",
      " Desempeño del clasificador sobre el conjunto de entrenamiento \n",
      "\n",
      "               precision    recall  f1-score   support\n",
      "\n",
      "Primera Clase       0.77      0.89      0.83        38\n",
      "Segunda Clase       0.98      0.95      0.96       187\n",
      "\n",
      "     accuracy                           0.94       225\n",
      "    macro avg       0.88      0.92      0.90       225\n",
      " weighted avg       0.94      0.94      0.94       225\n",
      "\n",
      "######################################################################\n",
      "\n",
      "\n",
      "######################################################################\n",
      "Desempeño del clasificador sobre el conjunto de la validación \n",
      "\n",
      "               precision    recall  f1-score   support\n",
      "\n",
      "Primera Clase       0.56      0.62      0.59         8\n",
      "Segunda Clase       0.95      0.94      0.95        67\n",
      "\n",
      "     accuracy                           0.91        75\n",
      "    macro avg       0.76      0.78      0.77        75\n",
      " weighted avg       0.91      0.91      0.91        75\n",
      "\n",
      "\n",
      "######################################################################\n",
      "Elapsed time: 0.0098540783 seconds.\n",
      "Elapsed time: 0.0230391026 seconds.\n"
     ]
    }
   ],
   "source": [
    "# MOSTRAMOS LOS DATOS DEL REPORTE.\n",
    "print('\\n\\n_________________Arboles de decisión_______________')\n",
    "Arbol_desicion(X,y)"
   ]
  },
  {
   "cell_type": "code",
   "execution_count": null,
   "metadata": {},
   "outputs": [],
   "source": []
  },
  {
   "cell_type": "code",
   "execution_count": null,
   "metadata": {},
   "outputs": [],
   "source": []
  }
 ],
 "metadata": {
  "kernelspec": {
   "display_name": "Python 3",
   "language": "python",
   "name": "python3"
  },
  "language_info": {
   "codemirror_mode": {
    "name": "ipython",
    "version": 3
   },
   "file_extension": ".py",
   "mimetype": "text/x-python",
   "name": "python",
   "nbconvert_exporter": "python",
   "pygments_lexer": "ipython3",
   "version": "3.7.4"
  }
 },
 "nbformat": 4,
 "nbformat_minor": 2
}
